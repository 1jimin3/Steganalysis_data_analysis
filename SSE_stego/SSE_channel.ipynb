{
 "cells": [
  {
   "cell_type": "code",
   "execution_count": 44,
   "metadata": {
    "collapsed": true
   },
   "outputs": [],
   "source": [
    "import numpy as np\n",
    "import cv2\n",
    "import os\n",
    "import matplotlib.pyplot as plt\n",
    "%matplotlib inline"
   ]
  },
  {
   "cell_type": "code",
   "execution_count": 45,
   "outputs": [],
   "source": [
    "cover_path = 'E:/JPEG_cover/ALASKA_v2_JPG_256_QF100_COLOR'\n",
    "stego_path = 'E:/SSE_stego/SSE_stego_100'"
   ],
   "metadata": {
    "collapsed": false,
    "pycharm": {
     "name": "#%%\n"
    }
   }
  },
  {
   "cell_type": "code",
   "execution_count": 46,
   "outputs": [],
   "source": [
    "def calc_residual(stego, cover):\n",
    "    residual = np.abs(stego.astype(np.int16) - cover.astype(np.int16)).astype(np.uint8)\n",
    "    return residual"
   ],
   "metadata": {
    "collapsed": false,
    "pycharm": {
     "name": "#%%\n"
    }
   }
  },
  {
   "cell_type": "code",
   "execution_count": 47,
   "outputs": [],
   "source": [
    "def show_img(cover_path: str, stego_path: str, count: int, multiple: int,\n",
    "                                            color_B: int, color_G, color_R):\n",
    "\n",
    "    stego_filenames = os.listdir(stego_path)\n",
    "    stego_filenames = list(filter(lambda x: x if x[-4:].lower() == '.jpg' else None, stego_filenames))\n",
    "\n",
    "    if count == -1:\n",
    "        count = len(stego_filenames)\n",
    "\n",
    "    for filename in stego_filenames[:count]:\n",
    "        stego = cv2.imread(os.path.join(stego_path, filename))\n",
    "        filename_c = filename[:-7] + '.jpg'\n",
    "        cover = cv2.imread(os.path.join(cover_path, filename_c))\n",
    "\n",
    "        img_s = calc_residual(stego, cover) * multiple\n",
    "\n",
    "        channels = cv2.split(img_s)\n",
    "        colors = ['B', 'G', 'R']\n",
    "        color_t = ['b', 'g', 'r']\n",
    "\n",
    "        for ch, color in zip(channels, colors):\n",
    "            ch_total = np.cumsum(ch)\n",
    "            if color == 'B':\n",
    "                color_B += ch_total[-1]\n",
    "            if color == 'G':\n",
    "                color_G += ch_total[-1]\n",
    "            if color == 'R':\n",
    "                color_R += ch_total[-1]\n",
    "\n",
    "    print('number of file: ', count)\n",
    "\n",
    "    values = [color_B, color_G, color_R]\n",
    "    plt.figure(figsize=(7,7))\n",
    "\n",
    "    ch_per = [0,0,0]\n",
    "\n",
    "    for i in range(3):\n",
    "        ch_per[i] = values[i] /sum(values) * 100\n",
    "\n",
    "    x = np.arange(3)\n",
    "    plt.bar(x, ch_per, color = color_t)\n",
    "    plt.title('Plot of channel', fontsize=20)\n",
    "\n",
    "    for index, value in enumerate(ch_per):\n",
    "        plt.text(index - 0.125 , value + 0.5, str(value)[:5]+\"%\")\n",
    "\n",
    "    plt.xticks(x, colors)\n",
    "    plt.yticks(fontsize = 20)\n",
    "\n",
    "    plt.show()"
   ],
   "metadata": {
    "collapsed": false,
    "pycharm": {
     "name": "#%%\n"
    }
   }
  },
  {
   "cell_type": "code",
   "execution_count": 48,
   "outputs": [
    {
     "name": "stdout",
     "output_type": "stream",
     "text": [
      "number of file:  10\n"
     ]
    },
    {
     "data": {
      "text/plain": "<Figure size 504x504 with 1 Axes>",
      "image/png": "[encoded data removed]"
     },
     "metadata": {
      "needs_background": "light"
     },
     "output_type": "display_data"
    }
   ],
   "source": [
    "#bpp 0.01, multiple 50\n",
    "show_img(cover_path, stego_path, 10, 1, 0, 0, 0)"
   ],
   "metadata": {
    "collapsed": false,
    "pycharm": {
     "name": "#%%\n"
    }
   }
  },
  {
   "cell_type": "code",
   "execution_count": 43,
   "outputs": [],
   "source": [],
   "metadata": {
    "collapsed": false,
    "pycharm": {
     "name": "#%%\n"
    }
   }
  },
  {
   "cell_type": "code",
   "execution_count": null,
   "outputs": [],
   "source": [],
   "metadata": {
    "collapsed": false,
    "pycharm": {
     "name": "#%%\n"
    }
   }
  }
 ],
 "metadata": {
  "kernelspec": {
   "display_name": "Python 3",
   "language": "python",
   "name": "python3"
  },
  "language_info": {
   "codemirror_mode": {
    "name": "ipython",
    "version": 2
   },
   "file_extension": ".py",
   "mimetype": "text/x-python",
   "name": "python",
   "nbconvert_exporter": "python",
   "pygments_lexer": "ipython2",
   "version": "2.7.6"
  }
 },
 "nbformat": 4,
 "nbformat_minor": 0
}