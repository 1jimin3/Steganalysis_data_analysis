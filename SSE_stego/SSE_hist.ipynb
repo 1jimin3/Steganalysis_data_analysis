{
 "cells": [
  {
   "cell_type": "code",
   "execution_count": 85,
   "metadata": {
    "collapsed": true
   },
   "outputs": [],
   "source": [
    "import numpy as np\n",
    "import os\n",
    "import matplotlib.pyplot as plt\n",
    "import jpegio\n",
    "%matplotlib inline"
   ]
  },
  {
   "cell_type": "code",
   "execution_count": 110,
   "outputs": [],
   "source": [
    "cover_path = 'E:/JPEG_cover/ALASKA_v2_JPG_256_QF75_COLOR'\n",
    "stego_path = 'E:/SSE_stego/SSE_stego_75'"
   ],
   "metadata": {
    "collapsed": false,
    "pycharm": {
     "name": "#%%\n"
    }
   }
  },
  {
   "cell_type": "code",
   "execution_count": 111,
   "outputs": [],
   "source": [
    "def calc_residual(stego, cover):\n",
    "    residual_y =  np.abs(stego.coef_arrays[0].astype(np.int16) - cover.coef_arrays[0].astype(np.int16)).astype(np.uint8)\n",
    "    return residual_y"
   ],
   "metadata": {
    "collapsed": false,
    "pycharm": {
     "name": "#%%\n"
    }
   }
  },
  {
   "cell_type": "code",
   "execution_count": 112,
   "outputs": [],
   "source": [
    "def show_hist(cover_path: str, stego_path: str, count: int, multiple: int):\n",
    "\n",
    "    stego_filenames = os.listdir(stego_path)\n",
    "    stego_filenames = list(filter(lambda x: x if x[-4:] == '.jpg' else None, stego_filenames))\n",
    "\n",
    "    if count == -1:\n",
    "        count = len(stego_filenames)\n",
    "\n",
    "    for filename in stego_filenames[:count]:\n",
    "        stego = jpegio.read(os.path.join(stego_path, filename))\n",
    "        filename_c = filename[:-7] + '.jpg'\n",
    "        cover = jpegio.read(os.path.join(cover_path, filename_c))\n",
    "\n",
    "        residual_y= calc_residual(stego, cover) * multiple\n",
    "\n",
    "        y_nnz_arr = []\n",
    "        for j in range(256):\n",
    "            y_nnz_arr.extend(list(filter(lambda a: a>0, residual_y[j])))\n",
    "\n",
    "        count = {}\n",
    "        for i in y_nnz_arr:\n",
    "            try: count[i] += 1\n",
    "            except: count[i] = 1\n",
    "\n",
    "    plt.figure(figsize=(6, 6))\n",
    "    print(count)\n",
    "    plt.bar(count.keys(), count.values())\n",
    "    plt.title('Plot of residual value count for Y-channel', fontsize=20)\n",
    "\n",
    "    for key, value in count.items():\n",
    "        plt.text(key - 0.35 , value + 0.5, str(value)[:5])\n",
    "\n",
    "    plt.xticks([1, 2, 3, 4, 5], fontsize = 15)\n",
    "    plt.yticks(fontsize = 15)\n",
    "    plt.show()"
   ],
   "metadata": {
    "collapsed": false,
    "pycharm": {
     "name": "#%%\n"
    }
   }
  },
  {
   "cell_type": "code",
   "execution_count": 113,
   "outputs": [
    {
     "name": "stdout",
     "output_type": "stream",
     "text": [
      "{1: 5453}\n"
     ]
    },
    {
     "data": {
      "text/plain": "<Figure size 432x432 with 1 Axes>",
      "image/png": "[encoded data removed]"
     },
     "metadata": {
      "needs_background": "light"
     },
     "output_type": "display_data"
    }
   ],
   "source": [
    "show_hist(cover_path, stego_path, 10, 1)"
   ],
   "metadata": {
    "collapsed": false,
    "pycharm": {
     "name": "#%%\n"
    }
   }
  },
  {
   "cell_type": "code",
   "execution_count": null,
   "outputs": [],
   "source": [],
   "metadata": {
    "collapsed": false,
    "pycharm": {
     "name": "#%%\n"
    }
   }
  }
 ],
 "metadata": {
  "kernelspec": {
   "display_name": "Python 3",
   "language": "python",
   "name": "python3"
  },
  "language_info": {
   "codemirror_mode": {
    "name": "ipython",
    "version": 2
   },
   "file_extension": ".py",
   "mimetype": "text/x-python",
   "name": "python",
   "nbconvert_exporter": "python",
   "pygments_lexer": "ipython2",
   "version": "2.7.6"
  }
 },
 "nbformat": 4,
 "nbformat_minor": 0
}